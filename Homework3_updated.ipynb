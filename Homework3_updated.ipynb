{
  "nbformat": 4,
  "nbformat_minor": 0,
  "metadata": {
    "colab": {
      "name": "Homework3.ipynb",
      "provenance": []
    },
    "kernelspec": {
      "name": "python3",
      "display_name": "Python 3"
    }
  },
  "cells": [
    {
      "cell_type": "markdown",
      "metadata": {
        "id": "y-aXe1ncoauG",
        "colab_type": "text"
      },
      "source": [
        "# Homework 3: Vertical fluxes in the Green River Lowlands\n",
        "\n",
        "The Conceptual Hydrogeologic Model for the Green River Lowlands is that the upper aquifer (the Tampico) is separated from the lower aquifer (the Sankoty) by a clay aquitard. In this problem, you are going to estimate the vertical leakage across this aquitard at one of the ISWS monitoring wells- Lee 91. For your reference, Lee 91B is open to only the Tampico and Lee 91A is open to only the Sankoty. \n",
        "\n",
        "The hydrographs for these wells can be found at: https://www.isws.illinois.edu/groundwater-science/groundwater-monitoring-well-networks/green-river-lowlands-monitoring.\n",
        "\n",
        "![GRLConceptualModel](https://www.isws.illinois.edu/images/default-source/groundwater/tampsank.png?sfvrsn=4a4b0e3c_0)"
      ]
    },
    {
      "cell_type": "markdown",
      "metadata": {
        "id": "8NIocxdesPw-",
        "colab_type": "text"
      },
      "source": [
        "# Part 0\n",
        "\n",
        "Insert a code block to import all modules, packages, and libraries used in this assignment."
      ]
    },
    {
      "cell_type": "markdown",
      "metadata": {
        "id": "tb_7VV0XpSNp",
        "colab_type": "text"
      },
      "source": [
        "# Part 1: Aquitard Thickness and Hydraulic Conductivity\n",
        "\n",
        "Add a code cell where you define a variable for aquifer thickness (in feet) and vertical hydraulic conductivity $k_z$ of the <font color = red>aquitard<font color = black> (in ft/d). You will need these later in your code. \n",
        "\n",
        "To obtain the <font color = red>vertical<font color = black> hydraulic conductivity <font color = red>of the aquitard<font color = black>, please refer to the Mahomet Aquifer modeling report (Roadcap et al. 2011)- https://www.ideals.illinois.edu/handle/2142/39869. <b>Assume that the aquitard is comprised of Glasford Till.</b> \n",
        "\n",
        "To obtain the thickness of the aquitard, you will be using ILWATER again (https://maps.isgs.illinois.edu/ilwater/). Explore the well logs in the vicinity of Lee 91A&B (located on the map below). Use the well logs to estimate an approximate thickness for the clay layer separating the Tampico from the Sankoty. <b>In a comment in the code box, add a link to a representative well log.</b> \n",
        "\n",
        "Caution:\n",
        "<ul>\n",
        "<li>You should only consider wells that are at least 120 ft deep</li>\n",
        "<li>You should only consider wells that include a clay layer between a surficial and deeper sand.</li>\n",
        "</ul>\n",
        "\n",
        "![GRLmap](https://www.isws.illinois.edu/images/default-source/groundwater/grl_monitoringsites.png?sfvrsn=37edec39_0)"
      ]
    },
    {
      "cell_type": "markdown",
      "metadata": {
        "id": "fU_yqDCaxFjU",
        "colab_type": "text"
      },
      "source": [
        "# Part 3: Plot the hydrographs for the Tampico and Sankoty Aquifers on the same figure\n",
        "\n",
        "Steps you should take:\n",
        "<ul>\n",
        "<li>Read the CSV file as a DataFrame for each well</li>\n",
        "<li>Rename the headers</li>\n",
        "<li>Convert date string to date time object and reassign the datetime as the index</li>\n",
        "<li>Resample the data to a daily time interval and backfill to remove NaNs</li>\n",
        "</ul>\n",
        "\n",
        "When plotting, include a legend and make sure the axes labels and tick marks are present and readable. Also include a title for this figure."
      ]
    },
    {
      "cell_type": "markdown",
      "metadata": {
        "id": "sVyzARAjyJOF",
        "colab_type": "text"
      },
      "source": [
        "# Part 4: Calculate the vertical flux (in ft/day) across the aquitard. \n",
        "\n",
        "<b>Hint: You will need to use Darcy's Law.</b> <font color = red>Make a time series of the vertical flux (AKA leakage, AKA specific discharge) across the aquitard.<font color = black> Also, if the previous parts of this problem were done correctly, this code could be as short as one line!!!"
      ]
    },
    {
      "cell_type": "markdown",
      "metadata": {
        "id": "cj2nkGnkyy34",
        "colab_type": "text"
      },
      "source": [
        "# Part 5: Use the Water Table Fluctuation method to estimate recharge at Lee-91.\n",
        "\n",
        "This code should follow closely what we previously did in class. Resample to a `monthly` time interval to get a more continuous curve. <b>Hint: You should only conduct this analysis for one of the nested wells; it is up to you to determine which well is the correct one to conduct this analysis on.</b> <font color = red> You may assume a specific yield of 0.2<font color = black>"
      ]
    },
    {
      "cell_type": "markdown",
      "metadata": {
        "id": "tlqrUW9Xzge5",
        "colab_type": "text"
      },
      "source": [
        "# Part 6: Plotting fluxes\n",
        "\n",
        "Plot the recharge and vertical leakage across the aquitard in the same figure. To better compare the curves, you should plot the y-axis on a log-scale. We haven't talked about how to do this yet, so you will need to do an internet search. "
      ]
    },
    {
      "cell_type": "markdown",
      "metadata": {
        "id": "tMrgjtU3z92h",
        "colab_type": "text"
      },
      "source": [
        "# Part 7: Analysis\n",
        "\n",
        "Given the results from Parts 1-6, address the following two questions:\n",
        "<ul>\n",
        "<li>Why does pumping from the Sankoty not appear to influence heads in the Tampico?</li>\n",
        "<li>Why do heads in the Sankoty return to pre-pumping conditions rapidly? <b>Hint: You should review the difference between confined and unconfined aquifers.</li>\n"
      ]
    },
    {
      "cell_type": "code",
      "metadata": {
        "id": "eE4iev06-1Ia",
        "colab_type": "code",
        "colab": {}
      },
      "source": [
        "|"
      ],
      "execution_count": 0,
      "outputs": []
    }
  ]
}
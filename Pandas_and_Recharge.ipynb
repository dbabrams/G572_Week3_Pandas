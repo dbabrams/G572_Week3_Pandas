{
  "nbformat": 4,
  "nbformat_minor": 0,
  "metadata": {
    "kernelspec": {
      "display_name": "Python 3",
      "language": "python",
      "name": "python3"
    },
    "language_info": {
      "codemirror_mode": {
        "name": "ipython",
        "version": 3
      },
      "file_extension": ".py",
      "mimetype": "text/x-python",
      "name": "python",
      "nbconvert_exporter": "python",
      "pygments_lexer": "ipython3",
      "version": "3.7.4"
    },
    "colab": {
      "name": "Pandas_and_Recharge.ipynb",
      "provenance": []
    }
  },
  "cells": [
    {
      "cell_type": "markdown",
      "metadata": {
        "id": "u1tYrAzqNt8u",
        "colab_type": "text"
      },
      "source": [
        "# Using Pandas to Estimate Recharge: Week 3\n",
        "\n",
        "\n",
        "For the rest of the semester, we are going to start focusing on specific hydrogeologic issues and how we can apply Python to resolve these issues. This week, we are going to focus on a (relatively) simple example of how to estimate recharge from hydrographs. Specifically, we will use the Pandas Data Science library to:\n",
        "\n",
        "<ul>\n",
        "    <li>Import data from CSV files</li>\n",
        "    <li>Plot the data</li>\n",
        "    <li>Perform calculations on time series data</li>\n",
        "</ul>\n",
        "\n",
        "Let's import the libraries that we are going to use today."
      ]
    },
    {
      "cell_type": "code",
      "metadata": {
        "id": "4jtTSTEGNt83",
        "colab_type": "code",
        "colab": {}
      },
      "source": [
        "# import pandas with alias pd\n",
        "import pandas as pd\n",
        "# import matplotlib as plt\n",
        "import matplotlib.pyplot as plt\n",
        "%matplotlib inline"
      ],
      "execution_count": 0,
      "outputs": []
    },
    {
      "cell_type": "markdown",
      "metadata": {
        "id": "QQkEDu0MNt9G",
        "colab_type": "text"
      },
      "source": [
        "# Today's hydrogeologic issue: Estimating Recharge\n",
        "\n",
        "This week, we are going to keep working with hydrographs; specifically, we are going to use a hydrograph to estimate groundwater recharge. The analysis is known as the Water Table Fluctuation method. See the following link for more details:\n",
        "\n",
        "![WTF_method](https://water.usgs.gov/ogw/gwrp/methods/images/figure2.gif)\n",
        "\n",
        "https://water.usgs.gov/ogw/gwrp/methods/wtf/\n",
        "https://www.sciencedirect.com/science/article/pii/S0022169406005427\n",
        "\n",
        "The general idea of this approach is to apply transient mass balance concepts to estimate recharge with the following formula:\n",
        "\n",
        "$R=\\frac{\\Delta h S_y}{\\Delta t}$\n",
        "\n",
        "where $R$ is recharge ($ft/d$), $\\Delta h$ is change in head ($ft$), $S_y$ is specific yield (unitless), and $\\Delta t$ is the time interval over which the head change was observed ($d$). We are going to use the simplest variant of the Water Table Fluctuation method (used by the USGS RISE program), where daily rises in water levels are used to define $\\Delta h$. Where heads decreased over a day, recharge is assumed to be zero. This approach is expected to underestimate recharge, but is very easy to code in Python!!! I encourage you to take a closer look at the work by Delin (referenced above) to understand the details of this approach better. \n",
        "\n",
        "For this week, let's use the Water Table Fluctuation Method on a data set from for a monitoring well in the Imperial Valley (https://www.isws.illinois.edu/groundwater-science/groundwater-monitoring-well-networks/imperial-valley)."
      ]
    },
    {
      "cell_type": "markdown",
      "metadata": {
        "id": "GwTXddfqNt9K",
        "colab_type": "text"
      },
      "source": [
        "# Pandas\n",
        "\n",
        "The Python Data Analysis Library, or Pandas, is an open source library providing high-performance, easy-to-use data structures and data analysis tools for Python.\n",
        "\n",
        "https://pandas.pydata.org/\n",
        "\n",
        "<img src = \"https://d1o50x50snmhul.cloudfront.net/wp-content/uploads/2017/06/14111650/00000-00568744-800x533.jpg\"/>"
      ]
    },
    {
      "cell_type": "markdown",
      "metadata": {
        "id": "ispPpngrNt9V",
        "colab_type": "text"
      },
      "source": [
        "### Pandas as an Excel substitute\n",
        "\n",
        "Pandas allows for much of the same functionality as Excel. Pandas has a data type called `DataFrame` that works on the same principle of rows and columns as excel. Each row has an index, and each column has a heading. It is relatively simple to read an Excel file as a DataFrame into Python with Pandas using the `pd.read_excel()` function. Similar in functionality, we can also read a CSV file as a DataFrame using `pd.read_csv()`. "
      ]
    },
    {
      "cell_type": "code",
      "metadata": {
        "id": "p--KcrnkNt9Z",
        "colab_type": "code",
        "outputId": "c01876d2-db06-4123-cb38-2ea95e27f263",
        "colab": {
          "base_uri": "https://localhost:8080/",
          "height": 252
        }
      },
      "source": [
        "# this will read a csv file from the ISWS website, includes a time-stamp, depth to water, and head. \n",
        "head_csv = 'http://aqueduct.isws.illinois.edu/data/360669_MTOW-03_WILDLIFE-REFUGE_hyd.csv'\n",
        "wellhead = pd.read_csv(head_csv)\n",
        "print(wellhead)"
      ],
      "execution_count": 0,
      "outputs": [
        {
          "output_type": "stream",
          "text": [
            "       RECORD            TIMESTAMP  depth_to_water_from_land_surface    head\n",
            "0           0  2016-12-14 04:00:00                             17.20  473.61\n",
            "1           1  2016-12-14 05:00:00                             17.19  473.62\n",
            "2           2  2016-12-14 06:00:00                             17.20  473.61\n",
            "3           3  2016-12-14 07:00:00                             17.20  473.61\n",
            "4           4  2016-12-14 10:00:00                             17.20  473.61\n",
            "...       ...                  ...                               ...     ...\n",
            "27436   27450  2020-02-04 19:00:00                             15.90  474.91\n",
            "27437   27451  2020-02-04 20:00:00                             15.91  474.90\n",
            "27438   27452  2020-02-04 21:00:00                             15.91  474.90\n",
            "27439   27453  2020-02-04 22:00:00                             15.90  474.91\n",
            "27440   27454  2020-02-04 23:00:00                             15.91  474.90\n",
            "\n",
            "[27441 rows x 4 columns]\n"
          ],
          "name": "stdout"
        }
      ]
    },
    {
      "cell_type": "code",
      "metadata": {
        "id": "KkoFfcrGNt9p",
        "colab_type": "code",
        "outputId": "34847363-a79d-4955-e2d4-d4a3ab73f1fa",
        "colab": {
          "base_uri": "https://localhost:8080/",
          "height": 34
        }
      },
      "source": [
        "# let's confirm that the data type is \"DataFrame\"\n",
        "type(wellhead)"
      ],
      "execution_count": 0,
      "outputs": [
        {
          "output_type": "execute_result",
          "data": {
            "text/plain": [
              "pandas.core.frame.DataFrame"
            ]
          },
          "metadata": {
            "tags": []
          },
          "execution_count": 36
        }
      ]
    },
    {
      "cell_type": "markdown",
      "metadata": {
        "id": "fRewPflPfwxU",
        "colab_type": "text"
      },
      "source": [
        "The original column names leave something to be desired. `depth_to_water_from_land_surface` is a lengthy column name that you probably wouldn't want to type repeatedly into a code. While brief, `head` is actually a method that returns the first few lines of a DataFrame, so it is unwise to also have a column named this. Let's rename the column headings using the `rename` method:"
      ]
    },
    {
      "cell_type": "code",
      "metadata": {
        "id": "9r9TfY1ugMjM",
        "colab_type": "code",
        "outputId": "cd06429d-cde6-4d47-abb7-bd069fd2ee06",
        "colab": {
          "base_uri": "https://localhost:8080/",
          "height": 252
        }
      },
      "source": [
        "# the format below specifies how to rename the columns in what is called a \"dictionary\". We'll talk specifics of dictionaries later in the semester.\n",
        "wellhead = wellhead.rename(columns={\"RECORD\": \"record\", \"TIMESTAMP\": 'time', \"depth_to_water_from_land_surface\": \"dtw_ft\", \"head\": \"head_ft\"})\n",
        "print(wellhead)"
      ],
      "execution_count": 0,
      "outputs": [
        {
          "output_type": "stream",
          "text": [
            "       record                 time  dtw_ft  head_ft\n",
            "0           0  2016-12-14 04:00:00   17.20   473.61\n",
            "1           1  2016-12-14 05:00:00   17.19   473.62\n",
            "2           2  2016-12-14 06:00:00   17.20   473.61\n",
            "3           3  2016-12-14 07:00:00   17.20   473.61\n",
            "4           4  2016-12-14 10:00:00   17.20   473.61\n",
            "...       ...                  ...     ...      ...\n",
            "27436   27450  2020-02-04 19:00:00   15.90   474.91\n",
            "27437   27451  2020-02-04 20:00:00   15.91   474.90\n",
            "27438   27452  2020-02-04 21:00:00   15.91   474.90\n",
            "27439   27453  2020-02-04 22:00:00   15.90   474.91\n",
            "27440   27454  2020-02-04 23:00:00   15.91   474.90\n",
            "\n",
            "[27441 rows x 4 columns]\n"
          ],
          "name": "stdout"
        }
      ]
    },
    {
      "cell_type": "markdown",
      "metadata": {
        "id": "WgrY75vNNt92",
        "colab_type": "text"
      },
      "source": [
        "As you can see above, all columns are imported into the DataFrame. If you want to work with a single column within a DataFrame, it is relatively simple using the format `DataFrame.ColumnName`. This single set of data is referred to as a Series in Pandas. Note below that the Data Series contains the same indices as the DataFrame. "
      ]
    },
    {
      "cell_type": "code",
      "metadata": {
        "id": "aL9r5UuhNt97",
        "colab_type": "code",
        "outputId": "dd41f3f9-dce0-4d51-b4ad-1d4ca03616e2",
        "colab": {
          "base_uri": "https://localhost:8080/",
          "height": 218
        }
      },
      "source": [
        "#DataFrame.ColumnName\n",
        "# This is case sensitive, so care should be taken when naming Excel columns for later input into Pandas\n",
        "print(wellhead.head_ft)"
      ],
      "execution_count": 0,
      "outputs": [
        {
          "output_type": "stream",
          "text": [
            "0        473.61\n",
            "1        473.62\n",
            "2        473.61\n",
            "3        473.61\n",
            "4        473.61\n",
            "          ...  \n",
            "27436    474.91\n",
            "27437    474.90\n",
            "27438    474.90\n",
            "27439    474.91\n",
            "27440    474.90\n",
            "Name: head_ft, Length: 27441, dtype: float64\n"
          ],
          "name": "stdout"
        }
      ]
    },
    {
      "cell_type": "markdown",
      "metadata": {
        "id": "QKqps63Bh7qM",
        "colab_type": "text"
      },
      "source": [
        "We can also access individual entries in the DataFrame (note that there are multiple ways to do the same thing). The following code accesses the head in the third row. Note that the row position is the same as the index (2), but this is a special case. "
      ]
    },
    {
      "cell_type": "code",
      "metadata": {
        "id": "7b_wwep1g3VI",
        "colab_type": "code",
        "outputId": "06c64b1a-2c53-4b0e-9dcb-2a87fe162000",
        "colab": {
          "base_uri": "https://localhost:8080/",
          "height": 84
        }
      },
      "source": [
        "print(wellhead.head_ft[2])\n",
        "print(wellhead['head_ft'][2])\n",
        "print(wellhead['head_ft'].loc[2]) # selects by label\n",
        "print(wellhead['head_ft'].iloc[2]) # selects by index position"
      ],
      "execution_count": 0,
      "outputs": [
        {
          "output_type": "stream",
          "text": [
            "473.61\n",
            "473.61\n",
            "473.61\n",
            "473.61\n"
          ],
          "name": "stdout"
        }
      ]
    },
    {
      "cell_type": "markdown",
      "metadata": {
        "id": "8xMFgWg8Nt-a",
        "colab_type": "text"
      },
      "source": [
        "When working with Pandas, we often want to assign a specific column to serve as our index. In this class, we will often assign the time column to the index, which opens up a number of time series analyses options. Before we make this change, though, let's take a quick look at the data type of the times in the column."
      ]
    },
    {
      "cell_type": "code",
      "metadata": {
        "id": "nNWGC7-njZ0i",
        "colab_type": "code",
        "outputId": "a7ab9f3c-ad8c-4982-8761-eef82573e4ab",
        "colab": {
          "base_uri": "https://localhost:8080/",
          "height": 50
        }
      },
      "source": [
        "print(wellhead.time[0])\n",
        "print(type(wellhead.time[0]))"
      ],
      "execution_count": 0,
      "outputs": [
        {
          "output_type": "stream",
          "text": [
            "2016-12-14 04:00:00\n",
            "<class 'str'>\n"
          ],
          "name": "stdout"
        }
      ]
    },
    {
      "cell_type": "markdown",
      "metadata": {
        "id": "JB5inliijm5T",
        "colab_type": "text"
      },
      "source": [
        "As you may have found out the hard way in Excel, working with date times in strings can be very complicated (to say the least). Pandas has a function that converts a date-time string into a `DateTime Object`. The function is intellegent enough to recognize the format of most date-time strings with little user input. Once in this format, Pandas can perform a number of time-series analyses such as binning over different time intervals (known as resampling in Pandas) and interpolation. "
      ]
    },
    {
      "cell_type": "code",
      "metadata": {
        "id": "r7hVMsR0jma7",
        "colab_type": "code",
        "outputId": "30ebdb5d-068e-41e1-b333-185e25eab33c",
        "colab": {
          "base_uri": "https://localhost:8080/",
          "height": 50
        }
      },
      "source": [
        "wellhead.time = pd.to_datetime(wellhead.time)\n",
        "print(wellhead.time[0])\n",
        "print(type(wellhead.time[0]))"
      ],
      "execution_count": 0,
      "outputs": [
        {
          "output_type": "stream",
          "text": [
            "2016-12-14 04:00:00\n",
            "<class 'pandas._libs.tslibs.timestamps.Timestamp'>\n"
          ],
          "name": "stdout"
        }
      ]
    },
    {
      "cell_type": "markdown",
      "metadata": {
        "id": "2Bva7F4EkrjF",
        "colab_type": "text"
      },
      "source": [
        "Now that the time is formatted properly, we can assign the time column as the index of our dataframe. This is done by setting `df.index = df.columnname`, as seen below. "
      ]
    },
    {
      "cell_type": "code",
      "metadata": {
        "scrolled": true,
        "id": "n0NJjoNtNt-e",
        "colab_type": "code",
        "outputId": "74b9c086-09cf-40f8-af97-17119457a2a0",
        "colab": {
          "base_uri": "https://localhost:8080/",
          "height": 269
        }
      },
      "source": [
        "wellhead.index = wellhead.time\n",
        "print(wellhead)"
      ],
      "execution_count": 0,
      "outputs": [
        {
          "output_type": "stream",
          "text": [
            "                     record                time  dtw_ft  head_ft\n",
            "time                                                            \n",
            "2016-12-14 04:00:00       0 2016-12-14 04:00:00   17.20   473.61\n",
            "2016-12-14 05:00:00       1 2016-12-14 05:00:00   17.19   473.62\n",
            "2016-12-14 06:00:00       2 2016-12-14 06:00:00   17.20   473.61\n",
            "2016-12-14 07:00:00       3 2016-12-14 07:00:00   17.20   473.61\n",
            "2016-12-14 10:00:00       4 2016-12-14 10:00:00   17.20   473.61\n",
            "...                     ...                 ...     ...      ...\n",
            "2020-02-04 19:00:00   27450 2020-02-04 19:00:00   15.90   474.91\n",
            "2020-02-04 20:00:00   27451 2020-02-04 20:00:00   15.91   474.90\n",
            "2020-02-04 21:00:00   27452 2020-02-04 21:00:00   15.91   474.90\n",
            "2020-02-04 22:00:00   27453 2020-02-04 22:00:00   15.90   474.91\n",
            "2020-02-04 23:00:00   27454 2020-02-04 23:00:00   15.91   474.90\n",
            "\n",
            "[27441 rows x 4 columns]\n"
          ],
          "name": "stdout"
        }
      ]
    },
    {
      "cell_type": "markdown",
      "metadata": {
        "id": "FMwg2zDblKUc",
        "colab_type": "text"
      },
      "source": [
        "Now let's return to our earlier code to access the head in the third row. Note how this differs from before, given that the index is no longer the same as the row position. Here, I assign the actual index value for the third row (`2016-12-14 06:00:00`) for all cases except `.iloc`, which requires the actual row position and not the value assigned to the index. "
      ]
    },
    {
      "cell_type": "code",
      "metadata": {
        "id": "jFHNevThlXNd",
        "colab_type": "code",
        "outputId": "1b2c0b97-1f56-4cad-d64f-d2ea1be7fda7",
        "colab": {
          "base_uri": "https://localhost:8080/",
          "height": 84
        }
      },
      "source": [
        "print(wellhead.head_ft['2016-12-14 06:00:00'])\n",
        "print(wellhead['head_ft']['2016-12-14 06:00:00'])\n",
        "print(wellhead['head_ft'].loc['2016-12-14 06:00:00']) # selects by label\n",
        "print(wellhead['head_ft'].iloc[2]) # selects by index position"
      ],
      "execution_count": 0,
      "outputs": [
        {
          "output_type": "stream",
          "text": [
            "473.61\n",
            "473.61\n",
            "473.61\n",
            "473.61\n"
          ],
          "name": "stdout"
        }
      ]
    },
    {
      "cell_type": "markdown",
      "metadata": {
        "id": "BK5ZmrgHminE",
        "colab_type": "text"
      },
      "source": [
        "Finally, we are no longer going to use the data in the columns `record` or `time` (since time is in the index). Let's drop those columns as follows "
      ]
    },
    {
      "cell_type": "code",
      "metadata": {
        "id": "TPC0S-GgmvK5",
        "colab_type": "code",
        "outputId": "e2630283-d53d-4987-c1bc-da1b1d3db523",
        "colab": {
          "base_uri": "https://localhost:8080/",
          "height": 269
        }
      },
      "source": [
        "# note that the first argument defines the columns to be dropped, and the second argument defines if the row or column will be dropped (axis = 1 indicates that columns will be dropped)\n",
        "wellhead = wellhead.drop(['record','time'], axis=1)\n",
        "print(wellhead)"
      ],
      "execution_count": 0,
      "outputs": [
        {
          "output_type": "stream",
          "text": [
            "                     dtw_ft  head_ft\n",
            "time                                \n",
            "2016-12-14 04:00:00   17.20   473.61\n",
            "2016-12-14 05:00:00   17.19   473.62\n",
            "2016-12-14 06:00:00   17.20   473.61\n",
            "2016-12-14 07:00:00   17.20   473.61\n",
            "2016-12-14 10:00:00   17.20   473.61\n",
            "...                     ...      ...\n",
            "2020-02-04 19:00:00   15.90   474.91\n",
            "2020-02-04 20:00:00   15.91   474.90\n",
            "2020-02-04 21:00:00   15.91   474.90\n",
            "2020-02-04 22:00:00   15.90   474.91\n",
            "2020-02-04 23:00:00   15.91   474.90\n",
            "\n",
            "[27441 rows x 2 columns]\n"
          ],
          "name": "stdout"
        }
      ]
    },
    {
      "cell_type": "markdown",
      "metadata": {
        "id": "itckxcyINt-2",
        "colab_type": "text"
      },
      "source": [
        "### Plotting with Pandas\n",
        "\n",
        "Before moving on with our analysis , let's take a quick look at plotting data. Plotting with a Pandas DataFrame or Series can be done by simpling using `DataFrame.columnname.plot()`. When plotting this way, Python knows to plot the index on the x-axis and all other columns on the y-axis. Note that the label defaults to the columnn name, although this can always be re-assigned as normal. "
      ]
    },
    {
      "cell_type": "code",
      "metadata": {
        "id": "dgrKBXmeNt-9",
        "colab_type": "code",
        "outputId": "2fd89e24-c382-4ebf-c8f1-97e5b50036c0",
        "colab": {
          "base_uri": "https://localhost:8080/",
          "height": 277
        }
      },
      "source": [
        "# plot a line \n",
        "wellhead.head_ft.plot(label = 'Wildlife Refuge Well')\n",
        "# we can plot a legend without assigning labels; labels are the same as the Data Series names.\n",
        "plt.legend()\n",
        "plt.ylabel('head (ft)')\n",
        "plt.xticks(rotation=30)\n",
        "plt.show()"
      ],
      "execution_count": 0,
      "outputs": [
        {
          "output_type": "display_data",
          "data": {
            "image/png": "[encoded data removed]",
            "text/plain": [
              "<Figure size 432x288 with 1 Axes>"
            ]
          },
          "metadata": {
            "tags": []
          }
        }
      ]
    },
    {
      "cell_type": "markdown",
      "metadata": {
        "id": "F5tBnakANt_I",
        "colab_type": "text"
      },
      "source": [
        "### Calculating $\\Delta h$\n",
        "\n",
        "Now let's return to our original problem, using the hydrograph to determine recharge. The first step we need to resolve is calculating the change in head over a time period, $\\Delta h$. The USGS RISE method uses a daily time scale, so let's resample the data to give us the daily average of the heads. \n",
        "\n"
      ]
    },
    {
      "cell_type": "code",
      "metadata": {
        "scrolled": true,
        "id": "MN7SmZ6mNt_M",
        "colab_type": "code",
        "outputId": "ab317853-8e38-4f42-9b01-cc4ea5618a87",
        "colab": {
          "base_uri": "https://localhost:8080/",
          "height": 269
        }
      },
      "source": [
        "# the syntax is a little different here. We are instructing Pandas to resample of a daily interval (here indicated by the argument 'D'). Other options could include weekly ('W'), monthly ('M'), or yearly ('Y').\n",
        "# we also add another method, mean(), which simply instructs Pandas to combine the hourly data into daily data by taking the mean. \n",
        "wellhead_d = wellhead.resample('D').mean()\n",
        "print(wellhead_d)"
      ],
      "execution_count": 0,
      "outputs": [
        {
          "output_type": "stream",
          "text": [
            "               dtw_ft     head_ft\n",
            "time                             \n",
            "2016-12-14  17.203333  473.606667\n",
            "2016-12-15  17.209000  473.601000\n",
            "2016-12-16  17.164000  473.646000\n",
            "2016-12-17        NaN         NaN\n",
            "2016-12-18  17.270833  473.539167\n",
            "...               ...         ...\n",
            "2020-01-31  15.871667  474.938333\n",
            "2020-02-01  15.833333  474.976667\n",
            "2020-02-02  15.806250  475.003750\n",
            "2020-02-03  15.797917  475.012083\n",
            "2020-02-04  15.879583  474.930417\n",
            "\n",
            "[1148 rows x 2 columns]\n"
          ],
          "name": "stdout"
        }
      ]
    },
    {
      "cell_type": "markdown",
      "metadata": {
        "id": "02Mb7pZhNt_a",
        "colab_type": "text"
      },
      "source": [
        "For another example of resampling (from the financial world), check out this video, which has some example files for you to play around with: https://www.youtube.com/watch?v=r0s4slGHwzE\n",
        "\n",
        "\n",
        "Let's check that the resampled data is similar to the original data. You will notice that the sharp peaks and valleys are lost due to averaging, which isn't ideal but we will live with it. "
      ]
    },
    {
      "cell_type": "code",
      "metadata": {
        "id": "D2kwPaIJNt_e",
        "colab_type": "code",
        "outputId": "cef72f2c-da84-4e99-d70c-a8344a199b69",
        "colab": {
          "base_uri": "https://localhost:8080/",
          "height": 293
        }
      },
      "source": [
        "# plot a line at a time\n",
        "wellhead.head_ft.plot(label = 'Hourly')\n",
        "wellhead_d.head_ft.plot(label = 'Daily')\n",
        "plt.title('Wildlife Refuge Well')\n",
        "# we can plot a legend without assigning labels; labels are the same as the Data Series names.\n",
        "plt.legend()\n",
        "plt.ylabel('head (ft)')\n",
        "plt.xticks(rotation=30)\n",
        "plt.show()"
      ],
      "execution_count": 0,
      "outputs": [
        {
          "output_type": "display_data",
          "data": {
            "image/png": "[encoded data removed]",
            "text/plain": [
              "<Figure size 432x288 with 1 Axes>"
            ]
          },
          "metadata": {
            "tags": []
          }
        }
      ]
    },
    {
      "cell_type": "markdown",
      "metadata": {
        "id": "ND0sNZIENt_o",
        "colab_type": "text"
      },
      "source": [
        "Now that we have resampled, we need to calculate the difference in the average heads over each weekly interval. To do this, we simply take the difference between the head and the shifted head using the method shift `shift()`. "
      ]
    },
    {
      "cell_type": "code",
      "metadata": {
        "id": "_caYhDSIq0gL",
        "colab_type": "code",
        "outputId": "023405d2-854f-41a6-c9db-6b21346fe092",
        "colab": {
          "base_uri": "https://localhost:8080/",
          "height": 235
        }
      },
      "source": [
        "# let's take a quick look at what the .shift() method does\n",
        "# all heads are shifted down one by this code\n",
        "wellhead_d['head_ft'].shift()"
      ],
      "execution_count": 0,
      "outputs": [
        {
          "output_type": "execute_result",
          "data": {
            "text/plain": [
              "time\n",
              "2016-12-14           NaN\n",
              "2016-12-15    473.606667\n",
              "2016-12-16    473.601000\n",
              "2016-12-17    473.646000\n",
              "2016-12-18           NaN\n",
              "                 ...    \n",
              "2020-01-31    474.913750\n",
              "2020-02-01    474.938333\n",
              "2020-02-02    474.976667\n",
              "2020-02-03    475.003750\n",
              "2020-02-04    475.012083\n",
              "Freq: D, Name: head_ft, Length: 1148, dtype: float64"
            ]
          },
          "metadata": {
            "tags": []
          },
          "execution_count": 48
        }
      ]
    },
    {
      "cell_type": "code",
      "metadata": {
        "scrolled": false,
        "id": "udxwrrLuNt_s",
        "colab_type": "code",
        "outputId": "727b28a2-afa5-4945-e157-b07bed86b2a2",
        "colab": {
          "base_uri": "https://localhost:8080/",
          "height": 269
        }
      },
      "source": [
        "# we can take the difference between the shifted and original heads to get the head change over each day\n",
        "# note that this simply involves subtracting two data series, which performs an element by element subtraction as long as they are the same length!\n",
        "# we create a new column, 'delta_h' and set that equal to this difference\n",
        "# after running the code, print the results to convince yourself that the magnitude and direction of the head change are correct\n",
        "wellhead_d['delta_h'] = wellhead_d['head_ft']-wellhead_d['head_ft'].shift()\n",
        "print(wellhead_d)"
      ],
      "execution_count": 0,
      "outputs": [
        {
          "output_type": "stream",
          "text": [
            "               dtw_ft     head_ft   delta_h\n",
            "time                                       \n",
            "2016-12-14  17.203333  473.606667       NaN\n",
            "2016-12-15  17.209000  473.601000 -0.005667\n",
            "2016-12-16  17.164000  473.646000  0.045000\n",
            "2016-12-17        NaN         NaN       NaN\n",
            "2016-12-18  17.270833  473.539167       NaN\n",
            "...               ...         ...       ...\n",
            "2020-01-31  15.871667  474.938333  0.024583\n",
            "2020-02-01  15.833333  474.976667  0.038333\n",
            "2020-02-02  15.806250  475.003750  0.027083\n",
            "2020-02-03  15.797917  475.012083  0.008333\n",
            "2020-02-04  15.879583  474.930417 -0.081667\n",
            "\n",
            "[1148 rows x 3 columns]\n"
          ],
          "name": "stdout"
        }
      ]
    },
    {
      "cell_type": "markdown",
      "metadata": {
        "id": "WGPjJd0woDo-",
        "colab_type": "text"
      },
      "source": [
        "Notice that there are a few NaNs present, which complicate the math. These are likely a result of erroneous head measurements that have prevented the calculation of an average (examples might include an error code that is returned as a string). The first NaN is a result of our methodology for shifting heads to calculate head change over the day. These NaNs will wreak havoc on our next coding steps. Ideally, we would address the underlying issue with these NaNs. For our purposes, however, we are going to simply fill them in with numbers so we don't have to worry about them. \n",
        "\n",
        "The easiest way to do this is the method `fillna`. Since our first value is an NaN, and our last value is a float, let's use backward fill (`bfill`) as the argument to determine how NaNs are populated. This will simply assign the value of the next float to any NaN. As you can probably guess, we can also do forward fill (`ffill`), which grabs the value of the preceding float, but that would leave an NaN in our dataframe, which we don't want. "
      ]
    },
    {
      "cell_type": "code",
      "metadata": {
        "scrolled": false,
        "id": "aSD8v7qpNuAF",
        "colab_type": "code",
        "outputId": "f37dc491-bfb8-46bb-90a0-63f17357d127",
        "colab": {
          "base_uri": "https://localhost:8080/",
          "height": 269
        }
      },
      "source": [
        "wellhead_d = wellhead_d.fillna(method='bfill')\n",
        "print(wellhead_d)"
      ],
      "execution_count": 0,
      "outputs": [
        {
          "output_type": "stream",
          "text": [
            "               dtw_ft     head_ft   delta_h\n",
            "time                                       \n",
            "2016-12-14  17.203333  473.606667 -0.005667\n",
            "2016-12-15  17.209000  473.601000 -0.005667\n",
            "2016-12-16  17.164000  473.646000  0.045000\n",
            "2016-12-17  17.270833  473.539167  0.028167\n",
            "2016-12-18  17.270833  473.539167  0.028167\n",
            "...               ...         ...       ...\n",
            "2020-01-31  15.871667  474.938333  0.024583\n",
            "2020-02-01  15.833333  474.976667  0.038333\n",
            "2020-02-02  15.806250  475.003750  0.027083\n",
            "2020-02-03  15.797917  475.012083  0.008333\n",
            "2020-02-04  15.879583  474.930417 -0.081667\n",
            "\n",
            "[1148 rows x 3 columns]\n"
          ],
          "name": "stdout"
        }
      ]
    },
    {
      "cell_type": "markdown",
      "metadata": {
        "id": "-XEa6DpHuFJ0",
        "colab_type": "text"
      },
      "source": [
        "# Estimating Recharge\n",
        "\n",
        "Now that we have $\\Delta h$, we can easily calculate recharge by assigning $S_y$ as 0.2 (unitless) and $\\Delta t$ as 1 day. Recall from earlier that:\n",
        "\n",
        "$R=\\frac{\\Delta h S_y}{\\Delta t}$\n",
        "\n",
        "Given our previous discussions, you might expect this to involve a loop, but if you multiple a scalar by a data series, the multiplication operation occurs over each element of the data series. In other words, no loop is needed, and the following code works!"
      ]
    },
    {
      "cell_type": "code",
      "metadata": {
        "scrolled": true,
        "id": "HsVwlfixNuAW",
        "colab_type": "code",
        "outputId": "1d0bd7a9-f079-4b5f-efc0-fc9202a10d3f",
        "colab": {
          "base_uri": "https://localhost:8080/",
          "height": 269
        }
      },
      "source": [
        "sy = 0.2\n",
        "wellhead_d['recharge'] = sy*wellhead_d.delta_h\n",
        "print(wellhead_d)"
      ],
      "execution_count": 0,
      "outputs": [
        {
          "output_type": "stream",
          "text": [
            "               dtw_ft     head_ft   delta_h  recharge\n",
            "time                                                 \n",
            "2016-12-14  17.203333  473.606667 -0.005667 -0.001133\n",
            "2016-12-15  17.209000  473.601000 -0.005667 -0.001133\n",
            "2016-12-16  17.164000  473.646000  0.045000  0.009000\n",
            "2016-12-17  17.270833  473.539167  0.028167  0.005633\n",
            "2016-12-18  17.270833  473.539167  0.028167  0.005633\n",
            "...               ...         ...       ...       ...\n",
            "2020-01-31  15.871667  474.938333  0.024583  0.004917\n",
            "2020-02-01  15.833333  474.976667  0.038333  0.007667\n",
            "2020-02-02  15.806250  475.003750  0.027083  0.005417\n",
            "2020-02-03  15.797917  475.012083  0.008333  0.001667\n",
            "2020-02-04  15.879583  474.930417 -0.081667 -0.016333\n",
            "\n",
            "[1148 rows x 4 columns]\n"
          ],
          "name": "stdout"
        }
      ]
    },
    {
      "cell_type": "markdown",
      "metadata": {
        "id": "qP532M8THLts",
        "colab_type": "text"
      },
      "source": [
        "Since we are using the RISE version of the Water Table Fluctuation Method, our next step is to remove any negative recharge. Given our previous discussions, you might expect that a loop would be necessary, and indeed, it works!\n",
        "\n",
        "Note that we use a method called iterrows. There are some other nuances here (for example, it is not good practice to make changes to a dataframe that you are looping through, so we create a different dataframe to modify). \n",
        "\n",
        "There is much, much more to be said, and we will conduct these types of loops later in the semester. However, there is a much easier way to accomplish the same thing!"
      ]
    },
    {
      "cell_type": "code",
      "metadata": {
        "id": "KaMK_EqXDHou",
        "colab_type": "code",
        "outputId": "e811c1b0-0cd0-4de8-80b8-0985703313d0",
        "colab": {
          "base_uri": "https://localhost:8080/",
          "height": 269
        }
      },
      "source": [
        "wellhead_d_noneg = 1*wellhead_d\n",
        "for index, row in wellhead_d.iterrows():\n",
        "  if wellhead_d_noneg.recharge[index]<0:\n",
        "    wellhead_d_noneg.recharge[index]=0\n",
        "\n",
        "print(wellhead_d_noneg)"
      ],
      "execution_count": 0,
      "outputs": [
        {
          "output_type": "stream",
          "text": [
            "               dtw_ft     head_ft   delta_h  recharge\n",
            "time                                                 \n",
            "2016-12-14  17.203333  473.606667 -0.005667  0.000000\n",
            "2016-12-15  17.209000  473.601000 -0.005667  0.000000\n",
            "2016-12-16  17.164000  473.646000  0.045000  0.009000\n",
            "2016-12-17  17.270833  473.539167  0.028167  0.005633\n",
            "2016-12-18  17.270833  473.539167  0.028167  0.005633\n",
            "...               ...         ...       ...       ...\n",
            "2020-01-31  15.871667  474.938333  0.024583  0.004917\n",
            "2020-02-01  15.833333  474.976667  0.038333  0.007667\n",
            "2020-02-02  15.806250  475.003750  0.027083  0.005417\n",
            "2020-02-03  15.797917  475.012083  0.008333  0.001667\n",
            "2020-02-04  15.879583  474.930417 -0.081667  0.000000\n",
            "\n",
            "[1148 rows x 4 columns]\n"
          ],
          "name": "stdout"
        }
      ]
    },
    {
      "cell_type": "markdown",
      "metadata": {
        "id": "KfONj6MwHQTE",
        "colab_type": "text"
      },
      "source": [
        "To understand the briefer (more `Pythonic`) way of removing negative values, you first need to see what happens when we write the following condition- which asks what happens if a data series is less than zero? That might sounds like an odd question, but Pandas recognizes that this is an element by element comparison, and returns a data series populated by either True (if an element is less than zero) or False (if an element is greater than or equal to zero). "
      ]
    },
    {
      "cell_type": "code",
      "metadata": {
        "id": "TQ1RZQTnGK88",
        "colab_type": "code",
        "outputId": "c1ad4668-477a-4ddf-f352-229c79cd5337",
        "colab": {
          "base_uri": "https://localhost:8080/",
          "height": 235
        }
      },
      "source": [
        "# note that the following line of code returns whether the following expression is true or not\n",
        "wellhead_d.recharge<0"
      ],
      "execution_count": 0,
      "outputs": [
        {
          "output_type": "execute_result",
          "data": {
            "text/plain": [
              "time\n",
              "2016-12-14     True\n",
              "2016-12-15     True\n",
              "2016-12-16    False\n",
              "2016-12-17    False\n",
              "2016-12-18    False\n",
              "              ...  \n",
              "2020-01-31    False\n",
              "2020-02-01    False\n",
              "2020-02-02    False\n",
              "2020-02-03    False\n",
              "2020-02-04     True\n",
              "Freq: D, Name: recharge, Length: 1148, dtype: bool"
            ]
          },
          "metadata": {
            "tags": []
          },
          "execution_count": 53
        }
      ]
    },
    {
      "cell_type": "markdown",
      "metadata": {
        "id": "6HNl3lwkxu8X",
        "colab_type": "text"
      },
      "source": [
        "The results of this Boolean can then be fed back into the DataFrame, with the resulting selection being only those values that are true. These values can then be set as equal to zero and are updated in the dataframe. \n",
        "\n",
        "Although a little confusing at first, this is a powerful way to check for outliers or other oddities in a dataframe or dataseries."
      ]
    },
    {
      "cell_type": "code",
      "metadata": {
        "id": "WxR8S1rNHgZF",
        "colab_type": "code",
        "outputId": "b8c5cf9b-a4c5-4162-fe43-a79249fb5249",
        "colab": {
          "base_uri": "https://localhost:8080/",
          "height": 269
        }
      },
      "source": [
        "# The results of this code include indices and can be fed back into the original dataframe. In the following expression, only values that are true (values where the change in head is less than zero) will be set to zero.\n",
        "\n",
        "# note that this code actually updates wellhead_d and does not necessitate the creation of a new dataframe\n",
        "wellhead_d.recharge[wellhead_d.recharge<0] = 0\n",
        "print(wellhead_d)"
      ],
      "execution_count": 0,
      "outputs": [
        {
          "output_type": "stream",
          "text": [
            "               dtw_ft     head_ft   delta_h  recharge\n",
            "time                                                 \n",
            "2016-12-14  17.203333  473.606667 -0.005667  0.000000\n",
            "2016-12-15  17.209000  473.601000 -0.005667  0.000000\n",
            "2016-12-16  17.164000  473.646000  0.045000  0.009000\n",
            "2016-12-17  17.270833  473.539167  0.028167  0.005633\n",
            "2016-12-18  17.270833  473.539167  0.028167  0.005633\n",
            "...               ...         ...       ...       ...\n",
            "2020-01-31  15.871667  474.938333  0.024583  0.004917\n",
            "2020-02-01  15.833333  474.976667  0.038333  0.007667\n",
            "2020-02-02  15.806250  475.003750  0.027083  0.005417\n",
            "2020-02-03  15.797917  475.012083  0.008333  0.001667\n",
            "2020-02-04  15.879583  474.930417 -0.081667  0.000000\n",
            "\n",
            "[1148 rows x 4 columns]\n"
          ],
          "name": "stdout"
        }
      ]
    },
    {
      "cell_type": "markdown",
      "metadata": {
        "id": "aMKrg3yGNuAg",
        "colab_type": "text"
      },
      "source": [
        "### Plot head and recharge data\n",
        "\n",
        "We want to observe the relationship between head changes and recharge. Let's plot both up. Note that we add a title based on the original url. "
      ]
    },
    {
      "cell_type": "code",
      "metadata": {
        "id": "vUym5TxMNuAj",
        "colab_type": "code",
        "outputId": "4887bd63-2e72-4f72-fe3e-c933222182f3",
        "colab": {
          "base_uri": "https://localhost:8080/",
          "height": 593
        }
      },
      "source": [
        "# plot a line at a time\n",
        "wellhead.head_ft.plot()\n",
        "plt.title(\"Head: \"+ head_csv[39:])\n",
        "plt.ylabel('head (ft)')\n",
        "plt.xticks(rotation=30)\n",
        "plt.show()\n",
        "\n",
        "plt.figure()\n",
        "plt.title(\"Head: \"+ head_csv[39:])\n",
        "wellhead_d.recharge.plot()\n",
        "plt.ylabel('recharge (ft/day)')\n",
        "plt.xticks(rotation = 30)\n",
        "plt.show()\n"
      ],
      "execution_count": 0,
      "outputs": [
        {
          "output_type": "display_data",
          "data": {
            "image/png": "[encoded data removed]",
            "text/plain": [
              "<Figure size 432x288 with 1 Axes>"
            ]
          },
          "metadata": {
            "tags": []
          }
        },
        {
          "output_type": "display_data",
          "data": {
            "image/png": "[encoded data removed]",
            "text/plain": [
              "<Figure size 432x288 with 1 Axes>"
            ]
          },
          "metadata": {
            "tags": []
          }
        }
      ]
    },
    {
      "cell_type": "markdown",
      "metadata": {
        "id": "VU1wbjP9OSyb",
        "colab_type": "text"
      },
      "source": [
        "This view is a little too noisy to see the trends in recharge, so let's resample over a monthly time period to smooth out the recharge."
      ]
    },
    {
      "cell_type": "code",
      "metadata": {
        "id": "9gGqedbbBgZ2",
        "colab_type": "code",
        "outputId": "cb36ec78-92dc-4d7c-dc3f-6a45abbb8874",
        "colab": {
          "base_uri": "https://localhost:8080/",
          "height": 706
        }
      },
      "source": [
        "wellhead_m = wellhead_d.resample('M').mean()\n",
        "print(wellhead_m)"
      ],
      "execution_count": 0,
      "outputs": [
        {
          "output_type": "stream",
          "text": [
            "               dtw_ft     head_ft   delta_h  recharge\n",
            "time                                                 \n",
            "2016-12-31  17.260655  473.549345  0.003032  0.002950\n",
            "2017-01-31  17.488048  473.321952 -0.010659  0.001417\n",
            "2017-02-28  17.766458  473.043527 -0.007738  0.001595\n",
            "2017-03-31  18.030578  472.779422 -0.009839  0.001185\n",
            "2017-04-30  18.175722  472.634278  0.001458  0.002575\n",
            "2017-05-31  17.535927  473.274046  0.029758  0.006323\n",
            "2017-06-30  17.205514  473.604486 -0.007042  0.001278\n",
            "2017-07-31  17.697769  473.112231 -0.015914  0.000054\n",
            "2017-08-31  18.141237  472.668763 -0.014341  0.000237\n",
            "2017-09-30  18.500250  472.309750 -0.011333  0.000042\n",
            "2017-10-31  18.794798  472.015175 -0.007715  0.000194\n",
            "2017-11-30  19.011611  471.798361 -0.005833  0.001192\n",
            "2017-12-31  19.156922  471.653078 -0.004637  0.000710\n",
            "2018-01-31  19.319395  471.490605 -0.004677  0.001212\n",
            "2018-02-28  19.508051  471.301949 -0.006830  0.001042\n",
            "2018-03-31  19.500027  471.309973  0.006331  0.002188\n",
            "2018-04-30  19.149264  471.660736  0.013903  0.003386\n",
            "2018-05-31  18.883347  471.926653  0.001599  0.001914\n",
            "2018-06-30  19.114222  471.695764 -0.007875  0.001444\n",
            "2018-07-31  19.227849  471.582137 -0.004530  0.001922\n",
            "2018-08-31  19.421694  471.388280 -0.006062  0.000753\n",
            "2018-09-30  19.154069  471.655931  0.018375  0.003819\n",
            "2018-10-31  18.858159  471.951841  0.003441  0.001694\n",
            "2018-11-30  18.827111  471.982889 -0.001056  0.001172\n",
            "2018-12-31  18.754046  472.055954  0.007110  0.002360\n",
            "2019-01-31  18.571048  472.238938  0.003602  0.002164\n",
            "2019-02-28  18.397917  472.412068  0.010580  0.004199\n",
            "2019-03-31  17.942572  472.867428  0.019704  0.004754\n",
            "2019-04-30  17.146944  473.663028  0.031000  0.006378\n",
            "2019-05-31  15.391129  475.418858  0.072688  0.014871\n",
            "2019-06-30  14.001181  476.808819  0.024653  0.008722\n",
            "2019-07-31  13.696250  477.113750 -0.017782  0.006218\n",
            "2019-08-31  14.656586  476.153387 -0.024516  0.001188\n",
            "2019-09-30  15.275417  475.534583 -0.018125  0.000914\n",
            "2019-10-31  15.700685  475.109301 -0.010296  0.003226\n",
            "2019-11-30  15.838986  474.971014  0.003569  0.005858\n",
            "2019-12-31  16.006250  474.803737 -0.011250  0.004003\n",
            "2020-01-31  16.066640  474.743360  0.007513  0.004884\n",
            "2020-02-29  15.829271  474.980729 -0.001979  0.003687\n"
          ],
          "name": "stdout"
        }
      ]
    },
    {
      "cell_type": "code",
      "metadata": {
        "id": "PnZe6mhaBuKX",
        "colab_type": "code",
        "outputId": "795feb54-4e52-48f2-c973-16097c16512f",
        "colab": {
          "base_uri": "https://localhost:8080/",
          "height": 593
        }
      },
      "source": [
        "# plot a line at a time\n",
        "wellhead.head_ft.plot()\n",
        "plt.title(\"Head: \"+ head_csv[39:])\n",
        "plt.ylabel('head (ft)')\n",
        "plt.xticks(rotation=30)\n",
        "plt.show()\n",
        "\n",
        "plt.figure()\n",
        "plt.title(\"Head: \"+ head_csv[39:])\n",
        "wellhead_m.recharge.plot()\n",
        "plt.ylabel('recharge (ft/day)')\n",
        "plt.xticks(rotation = 30)\n",
        "plt.show()\n"
      ],
      "execution_count": 0,
      "outputs": [
        {
          "output_type": "display_data",
          "data": {
            "image/png": "[encoded data removed]",
            "text/plain": [
              "<Figure size 432x288 with 1 Axes>"
            ]
          },
          "metadata": {
            "tags": []
          }
        },
        {
          "output_type": "display_data",
          "data": {
            "image/png": "[encoded data removed]",
            "text/plain": [
              "<Figure size 432x288 with 1 Axes>"
            ]
          },
          "metadata": {
            "tags": []
          }
        }
      ]
    },
    {
      "cell_type": "markdown",
      "metadata": {
        "id": "mdQW5v8GOfHp",
        "colab_type": "text"
      },
      "source": [
        "Finally, I want to compare the annual average recharge with the recharge that was calibrated in a modeling effort of this region. Roadcap et al. (2011) found that recharge ranged from 8-13 inches/year. Let's resample and conduct a unit conversion:"
      ]
    },
    {
      "cell_type": "code",
      "metadata": {
        "id": "foxz4KRIOu2a",
        "colab_type": "code",
        "outputId": "2520c8a4-c603-4faa-cf20-65e7c76c2e1e",
        "colab": {
          "base_uri": "https://localhost:8080/",
          "height": 134
        }
      },
      "source": [
        "wellhead_y = wellhead_d.resample('Y').mean()*12*365.25\n",
        "print(wellhead_y)"
      ],
      "execution_count": 0,
      "outputs": [
        {
          "output_type": "stream",
          "text": [
            "                  dtw_ft       head_ft    delta_h   recharge\n",
            "time                                                        \n",
            "2016-12-31  75653.451868  2.075567e+06  13.291042  12.929850\n",
            "2017-12-31  79451.870616  2.071768e+06 -23.210887   6.135399\n",
            "2018-12-31  83895.008003  2.067325e+06   7.310003   8.371730\n",
            "2019-12-31  70295.126131  2.080925e+06  30.330760  22.849988\n",
            "2020-12-31  70301.180679  2.080919e+06  28.176429  20.808814\n"
          ],
          "name": "stdout"
        }
      ]
    },
    {
      "cell_type": "markdown",
      "metadata": {
        "id": "t2ua2BiMzmU8",
        "colab_type": "text"
      },
      "source": [
        "2016, 2017, and 2018 are very close to the modeled recharge estimate of 8-13 inches/year. 2019 was an extrodinarily wet year in the region, so the fact that the recharge is higher makes sense. 2020 has also been relatively wet to start out, so the higher recharge rates makes sense here as well. "
      ]
    },
    {
      "cell_type": "markdown",
      "metadata": {
        "id": "H2jtRlXLNuA9",
        "colab_type": "text"
      },
      "source": [
        "## Code summary\n",
        "\n",
        "The above code is fairly messy with a few tangents to explain what is occuring. The following three code blocks summarize the core code needed to simulate the Water Table Fluctuation method for any ISWS hydrograph. \n",
        "\n",
        "<ul>\n",
        "<li>The first block defines variables that the user may need to change frequently</li>\n",
        "<li>The second block reads the hydrograph information, formats the data, and plots the yearly average recharge in inches/year.</li>\n",
        "<li>The third block plots the data together on the same plot</li>\n",
        "</ul>"
      ]
    },
    {
      "cell_type": "code",
      "metadata": {
        "colab_type": "code",
        "id": "JXDjuqq4gr1U",
        "colab": {}
      },
      "source": [
        "# Code Block 1 defines variable information\n",
        "# Link to hydrograph data\n",
        "head_csv = 'http://aqueduct.isws.illinois.edu/data/360669_MTOW-03_WILDLIFE-REFUGE_hyd.csv'\n",
        "# Specific Yield (storage term)\n",
        "sy = 0.2"
      ],
      "execution_count": 0,
      "outputs": []
    },
    {
      "cell_type": "code",
      "metadata": {
        "id": "xUnfw7Gz4h1T",
        "colab_type": "code",
        "outputId": "348e73bf-5ef3-4d02-dc2d-cf6cf88d07c3",
        "colab": {
          "base_uri": "https://localhost:8080/",
          "height": 134
        }
      },
      "source": [
        "# read the csv as a dataframe\n",
        "wellhead = pd.read_csv(head_csv)\n",
        "# rename the column names\n",
        "wellhead = wellhead.rename(columns={\"RECORD\": \"record\", \"TIMESTAMP\": 'time', \"depth_to_water_from_land_surface\": \"dtw_ft\", \"head\": \"head_ft\"})\n",
        "# convert date string to date time\n",
        "wellhead.time = pd.to_datetime(wellhead.time)\n",
        "# assign datetime as index\n",
        "wellhead.index = wellhead.time\n",
        "# drop unneeded columns- not necessary but done to create cleaner looking outputs\n",
        "wellhead = wellhead.drop(['record','time'],axis=1) \n",
        "# resample on a daily time interval, averaging values in the dataframe\n",
        "wellhead_d = wellhead.resample('D').mean()\n",
        "# calculate head change over each day\n",
        "wellhead_d['delta_h'] = wellhead_d['head_ft']-wellhead_d['head_ft'].shift()\n",
        "# fill NaNs in the dataframe\n",
        "wellhead_d = wellhead_d.fillna(method='bfill')\n",
        "# add a recharge column by calculating head change by specific yield. Note that the value is not divided by time because the time interval is 1 day. \n",
        "wellhead_d['recharge'] = sy*wellhead_d.delta_h\n",
        "# replace negative recharge values with zero\n",
        "wellhead_d.recharge[wellhead_d.recharge<0]=0\n",
        "# resample to monthly time intervals\n",
        "wellhead_m = wellhead_d.resample('M').mean()\n",
        "# resample to annual time intervals\n",
        "wellhead_y = wellhead_d.resample('Y').mean()\n",
        "# print annual data as inches/year\n",
        "print(wellhead_y.recharge*12*365.25)\n"
      ],
      "execution_count": 0,
      "outputs": [
        {
          "output_type": "stream",
          "text": [
            "time\n",
            "2016-12-31    12.929850\n",
            "2017-12-31     6.135399\n",
            "2018-12-31     8.371730\n",
            "2019-12-31    22.849988\n",
            "2020-12-31    20.808814\n",
            "Freq: A-DEC, Name: recharge, dtype: float64\n"
          ],
          "name": "stdout"
        }
      ]
    },
    {
      "cell_type": "code",
      "metadata": {
        "id": "1S2lnDRw1m3_",
        "colab_type": "code",
        "outputId": "5cf5728b-bd02-4983-bd6a-e2015680a84c",
        "colab": {
          "base_uri": "https://localhost:8080/",
          "height": 593
        }
      },
      "source": [
        "# plot a line at a time\n",
        "wellhead.head_ft.plot()\n",
        "plt.title(\"Head: \"+ head_csv[39:])\n",
        "plt.ylabel('head (ft)')\n",
        "plt.xticks(rotation=30)\n",
        "plt.show()\n",
        "\n",
        "plt.figure()\n",
        "plt.title(\"Head: \"+ head_csv[39:])\n",
        "wellhead_m.recharge.plot()\n",
        "plt.ylabel('recharge (ft/day)')\n",
        "plt.xticks(rotation = 30)\n",
        "plt.show()"
      ],
      "execution_count": 0,
      "outputs": [
        {
          "output_type": "display_data",
          "data": {
            "image/png": "[encoded data removed]",
            "text/plain": [
              "<Figure size 432x288 with 1 Axes>"
            ]
          },
          "metadata": {
            "tags": []
          }
        },
        {
          "output_type": "display_data",
          "data": {
            "image/png": "[encoded data removed]",
            "text/plain": [
              "<Figure size 432x288 with 1 Axes>"
            ]
          },
          "metadata": {
            "tags": []
          }
        }
      ]
    },
    {
      "cell_type": "code",
      "metadata": {
        "id": "WJdtGSrX4PTN",
        "colab_type": "code",
        "colab": {}
      },
      "source": [
        ""
      ],
      "execution_count": 0,
      "outputs": []
    }
  ]
}